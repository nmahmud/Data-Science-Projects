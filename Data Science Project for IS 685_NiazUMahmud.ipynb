{
 "cells": [
  {
   "cell_type": "markdown",
   "metadata": {},
   "source": [
    "# House Price Prediction by using MELBOURNE_HOUSE_PRICE_LESS Dataset\n"
   ]
  },
  {
   "cell_type": "markdown",
   "metadata": {},
   "source": [
    "# 1. Introduction (Data Collection and Variable Description)\n",
    "We have collected the MELBOURNE_HOUSE_PRICE_LESS dataset from Kaggle. This data contains rows and coulmns in real estate business. We will try to find important regressors relating to housing price. "
   ]
  },
  {
   "cell_type": "markdown",
   "metadata": {},
   "source": [
    "# a. Data and Variable Description"
   ]
  },
  {
   "cell_type": "code",
   "execution_count": 50,
   "metadata": {},
   "outputs": [],
   "source": [
    "# Reading and creating a datafreame by using the dataset.\n",
    "import pandas as pd\n",
    "d=pd.read_csv('C:/Users/niazs/Desktop/IS 685 Python/Project data/MELBOURNE_HOUSE_PRICES_LESS.csv')\n",
    "df=pd.DataFrame(d)"
   ]
  },
  {
   "cell_type": "code",
   "execution_count": 51,
   "metadata": {},
   "outputs": [
    {
     "name": "stdout",
     "output_type": "stream",
     "text": [
      "<class 'pandas.core.frame.DataFrame'>\n",
      "RangeIndex: 63023 entries, 0 to 63022\n",
      "Data columns (total 13 columns):\n",
      "Suburb           63023 non-null object\n",
      "Address          63023 non-null object\n",
      "Rooms            63023 non-null int64\n",
      "Type             63023 non-null object\n",
      "Price            48433 non-null float64\n",
      "Method           63023 non-null object\n",
      "SellerG          63023 non-null object\n",
      "Date             63023 non-null object\n",
      "Postcode         63023 non-null int64\n",
      "Regionname       63023 non-null object\n",
      "Propertycount    63023 non-null int64\n",
      "Distance         63023 non-null float64\n",
      "CouncilArea      63023 non-null object\n",
      "dtypes: float64(2), int64(3), object(8)\n",
      "memory usage: 6.3+ MB\n"
     ]
    }
   ],
   "source": [
    "df.info()"
   ]
  },
  {
   "cell_type": "markdown",
   "metadata": {},
   "source": [
    "There are 13 features ( that is variables) and 63023 rows ( that is observations) in the dataset. The variable Price has only 48433 rows and the rest are missing. The variable descriptions are given below: \n",
    "\n",
    "Suburb: Suburb\n",
    "\n",
    "Address: Address of the house\n",
    "\n",
    "Rooms: Number of rooms\n",
    "\n",
    "Price: Price in dollars\n",
    "\n",
    "Method: Status of property sale -\n",
    "\n",
    "S - property sold; \n",
    "\n",
    "SP - property sold prior; \n",
    "\n",
    "PI - property passed in; \n",
    "\n",
    "PN - sold prior not disclosed; \n",
    "\n",
    "SN - sold not disclosed; \n",
    "\n",
    "VB - vendor bid; \n",
    "\n",
    "W -  withdrawn prior to auction; \n",
    "\n",
    "SA - sold after auction; \n",
    "\n",
    "SS - sold after auction price not disclosed.\n",
    "\n",
    "\n",
    "Type: Type of house -\n",
    "\n",
    "h - house,cottage,villa, semi,terrace; \n",
    "u - unit, duplex; \n",
    "t - townhouse;\n",
    "\n",
    "SellerG: Real Estate Agent\n",
    "\n",
    "Date: Date sold\n",
    "\n",
    "Postcode: Postal code of the house\n",
    "\n",
    "Distance: Distance from Central Business District (CBD)\n",
    "\n",
    "Regionname: General Region (West, North West, North, North east …etc)\n",
    "\n",
    "Propertycount: Number of properties that exist in the suburb.\n",
    "\n",
    "Councilarea: Council area in the location of the house"
   ]
  },
  {
   "cell_type": "markdown",
   "metadata": {},
   "source": [
    "# b. Type of the variables\n",
    "We have numerical variables: Rooms, Price,Propertycount and Distance.\n",
    "The variables: Suburb, Address, Type, Method, SellerG, Postcode, Regionname and CouncilArea has to be categorical, the variable Date has to be in the format Date Object. So we are converting these variables below:"
   ]
  },
  {
   "cell_type": "code",
   "execution_count": 52,
   "metadata": {},
   "outputs": [
    {
     "data": {
      "text/html": [
       "<div>\n",
       "<style scoped>\n",
       "    .dataframe tbody tr th:only-of-type {\n",
       "        vertical-align: middle;\n",
       "    }\n",
       "\n",
       "    .dataframe tbody tr th {\n",
       "        vertical-align: top;\n",
       "    }\n",
       "\n",
       "    .dataframe thead th {\n",
       "        text-align: right;\n",
       "    }\n",
       "</style>\n",
       "<table border=\"1\" class=\"dataframe\">\n",
       "  <thead>\n",
       "    <tr style=\"text-align: right;\">\n",
       "      <th></th>\n",
       "      <th>Suburb</th>\n",
       "      <th>Address</th>\n",
       "      <th>Rooms</th>\n",
       "      <th>Type</th>\n",
       "      <th>Price</th>\n",
       "      <th>Method</th>\n",
       "      <th>SellerG</th>\n",
       "      <th>Date</th>\n",
       "      <th>Postcode</th>\n",
       "      <th>Regionname</th>\n",
       "      <th>Propertycount</th>\n",
       "      <th>Distance</th>\n",
       "      <th>CouncilArea</th>\n",
       "    </tr>\n",
       "  </thead>\n",
       "  <tbody>\n",
       "    <tr>\n",
       "      <th>0</th>\n",
       "      <td>Abbotsford</td>\n",
       "      <td>49 Lithgow St</td>\n",
       "      <td>3</td>\n",
       "      <td>h</td>\n",
       "      <td>1490000.0</td>\n",
       "      <td>S</td>\n",
       "      <td>Jellis</td>\n",
       "      <td>1/04/2017</td>\n",
       "      <td>3067</td>\n",
       "      <td>Northern Metropolitan</td>\n",
       "      <td>4019</td>\n",
       "      <td>3.0</td>\n",
       "      <td>Yarra City Council</td>\n",
       "    </tr>\n",
       "    <tr>\n",
       "      <th>1</th>\n",
       "      <td>Abbotsford</td>\n",
       "      <td>59A Turner St</td>\n",
       "      <td>3</td>\n",
       "      <td>h</td>\n",
       "      <td>1220000.0</td>\n",
       "      <td>S</td>\n",
       "      <td>Marshall</td>\n",
       "      <td>1/04/2017</td>\n",
       "      <td>3067</td>\n",
       "      <td>Northern Metropolitan</td>\n",
       "      <td>4019</td>\n",
       "      <td>3.0</td>\n",
       "      <td>Yarra City Council</td>\n",
       "    </tr>\n",
       "    <tr>\n",
       "      <th>2</th>\n",
       "      <td>Abbotsford</td>\n",
       "      <td>119B Yarra St</td>\n",
       "      <td>3</td>\n",
       "      <td>h</td>\n",
       "      <td>1420000.0</td>\n",
       "      <td>S</td>\n",
       "      <td>Nelson</td>\n",
       "      <td>1/04/2017</td>\n",
       "      <td>3067</td>\n",
       "      <td>Northern Metropolitan</td>\n",
       "      <td>4019</td>\n",
       "      <td>3.0</td>\n",
       "      <td>Yarra City Council</td>\n",
       "    </tr>\n",
       "    <tr>\n",
       "      <th>3</th>\n",
       "      <td>Aberfeldie</td>\n",
       "      <td>68 Vida St</td>\n",
       "      <td>3</td>\n",
       "      <td>h</td>\n",
       "      <td>1515000.0</td>\n",
       "      <td>S</td>\n",
       "      <td>Barry</td>\n",
       "      <td>1/04/2017</td>\n",
       "      <td>3040</td>\n",
       "      <td>Western Metropolitan</td>\n",
       "      <td>1543</td>\n",
       "      <td>7.5</td>\n",
       "      <td>Moonee Valley City Council</td>\n",
       "    </tr>\n",
       "    <tr>\n",
       "      <th>4</th>\n",
       "      <td>Airport West</td>\n",
       "      <td>92 Clydesdale Rd</td>\n",
       "      <td>2</td>\n",
       "      <td>h</td>\n",
       "      <td>670000.0</td>\n",
       "      <td>S</td>\n",
       "      <td>Nelson</td>\n",
       "      <td>1/04/2017</td>\n",
       "      <td>3042</td>\n",
       "      <td>Western Metropolitan</td>\n",
       "      <td>3464</td>\n",
       "      <td>10.4</td>\n",
       "      <td>Moonee Valley City Council</td>\n",
       "    </tr>\n",
       "  </tbody>\n",
       "</table>\n",
       "</div>"
      ],
      "text/plain": [
       "         Suburb           Address  Rooms Type      Price Method   SellerG  \\\n",
       "0    Abbotsford     49 Lithgow St      3    h  1490000.0      S    Jellis   \n",
       "1    Abbotsford     59A Turner St      3    h  1220000.0      S  Marshall   \n",
       "2    Abbotsford     119B Yarra St      3    h  1420000.0      S    Nelson   \n",
       "3    Aberfeldie        68 Vida St      3    h  1515000.0      S     Barry   \n",
       "4  Airport West  92 Clydesdale Rd      2    h   670000.0      S    Nelson   \n",
       "\n",
       "        Date  Postcode             Regionname  Propertycount  Distance  \\\n",
       "0  1/04/2017      3067  Northern Metropolitan           4019       3.0   \n",
       "1  1/04/2017      3067  Northern Metropolitan           4019       3.0   \n",
       "2  1/04/2017      3067  Northern Metropolitan           4019       3.0   \n",
       "3  1/04/2017      3040   Western Metropolitan           1543       7.5   \n",
       "4  1/04/2017      3042   Western Metropolitan           3464      10.4   \n",
       "\n",
       "                  CouncilArea  \n",
       "0          Yarra City Council  \n",
       "1          Yarra City Council  \n",
       "2          Yarra City Council  \n",
       "3  Moonee Valley City Council  \n",
       "4  Moonee Valley City Council  "
      ]
     },
     "execution_count": 52,
     "metadata": {},
     "output_type": "execute_result"
    }
   ],
   "source": [
    "df.head()"
   ]
  },
  {
   "cell_type": "code",
   "execution_count": 53,
   "metadata": {},
   "outputs": [
    {
     "name": "stdout",
     "output_type": "stream",
     "text": [
      "Index([], dtype='object')\n"
     ]
    }
   ],
   "source": [
    "ctgr_var= ['Suburb', 'Address', 'Type', 'Method', 'SellerG','Postcode','Regionname','CouncilArea']\n",
    "\n",
    "df['Date'] = pd.to_datetime(df['Date'])\n",
    "for colname in ctgr_var:\n",
    "    df[colname] = df[colname].astype('category')  \n",
    "print(df.select_dtypes(['object']).columns)"
   ]
  },
  {
   "cell_type": "markdown",
   "metadata": {},
   "source": [
    "The variables becomes categorical now. "
   ]
  },
  {
   "cell_type": "markdown",
   "metadata": {},
   "source": [
    "# 2. Cleaning and Exploratory Data Analysis: \n",
    "# a. Cleaning data\n",
    "At first we need to check if there is any missing values in the dataset. Let's check the missing values..."
   ]
  },
  {
   "cell_type": "code",
   "execution_count": 54,
   "metadata": {},
   "outputs": [
    {
     "data": {
      "text/plain": [
       "Suburb               0\n",
       "Address              0\n",
       "Rooms                0\n",
       "Type                 0\n",
       "Price            14590\n",
       "Method               0\n",
       "SellerG              0\n",
       "Date                 0\n",
       "Postcode             0\n",
       "Regionname           0\n",
       "Propertycount        0\n",
       "Distance             0\n",
       "CouncilArea          0\n",
       "dtype: int64"
      ]
     },
     "execution_count": 54,
     "metadata": {},
     "output_type": "execute_result"
    }
   ],
   "source": [
    "#counting the number of missing observations in each variable\n",
    "df.isnull().sum()"
   ]
  },
  {
   "cell_type": "code",
   "execution_count": 55,
   "metadata": {},
   "outputs": [
    {
     "data": {
      "text/plain": [
       "Suburb            0.000000\n",
       "Address           0.000000\n",
       "Rooms             0.000000\n",
       "Type              0.000000\n",
       "Price            23.150278\n",
       "Method            0.000000\n",
       "SellerG           0.000000\n",
       "Date              0.000000\n",
       "Postcode          0.000000\n",
       "Regionname        0.000000\n",
       "Propertycount     0.000000\n",
       "Distance          0.000000\n",
       "CouncilArea       0.000000\n",
       "dtype: float64"
      ]
     },
     "execution_count": 55,
     "metadata": {},
     "output_type": "execute_result"
    }
   ],
   "source": [
    "##percentage of missing data\n",
    "df.isnull().sum()/len(df)*100"
   ]
  },
  {
   "cell_type": "markdown",
   "metadata": {},
   "source": [
    "Here the variable Price has 14590 (23.1503 percent) missing values. This is a huge percentage which will invalid our analysis. We have decided to replace these rows with the mean value Price. "
   ]
  },
  {
   "cell_type": "code",
   "execution_count": 56,
   "metadata": {},
   "outputs": [],
   "source": [
    "import numpy as np\n",
    "# mark zero values as missing or NaN\n",
    "#df[[4]] = df.replace(0, np.NaN)\n",
    "# fill missing values with mean column values\n",
    "df.fillna(df.mean(), inplace=True)"
   ]
  },
  {
   "cell_type": "code",
   "execution_count": 57,
   "metadata": {},
   "outputs": [
    {
     "name": "stdout",
     "output_type": "stream",
     "text": [
      "Suburb           0\n",
      "Address          0\n",
      "Rooms            0\n",
      "Type             0\n",
      "Price            0\n",
      "Method           0\n",
      "SellerG          0\n",
      "Date             0\n",
      "Postcode         0\n",
      "Regionname       0\n",
      "Propertycount    0\n",
      "Distance         0\n",
      "CouncilArea      0\n",
      "dtype: int64\n"
     ]
    }
   ],
   "source": [
    "#df.dropna() to drop the missing rows\n",
    "print(df.isnull().sum())"
   ]
  },
  {
   "cell_type": "code",
   "execution_count": 58,
   "metadata": {},
   "outputs": [
    {
     "data": {
      "text/plain": [
       "(63023, 13)"
      ]
     },
     "execution_count": 58,
     "metadata": {},
     "output_type": "execute_result"
    }
   ],
   "source": [
    "df.shape"
   ]
  },
  {
   "cell_type": "markdown",
   "metadata": {},
   "source": [
    "# b. EDA with graphs and diagrams\n",
    "We will calculate the statistics of the target variable price and then calculate bar diagrams for the categorical variables"
   ]
  },
  {
   "cell_type": "code",
   "execution_count": 59,
   "metadata": {},
   "outputs": [
    {
     "name": "stdout",
     "output_type": "stream",
     "text": [
      "Statistics for Melbourne housing dataset:\n",
      "\n",
      "Minimum price: $85,000.00\n",
      "Maximum price: $11,200,000.00\n",
      "Mean price: $997,898.24\n",
      "Median price $997,898.24\n",
      "Standard deviation of prices: $520,279.36\n"
     ]
    }
   ],
   "source": [
    "minimum_price = np.min(df['Price'])\n",
    "\n",
    "# TODO: Maximum price of the data\n",
    "maximum_price = np.max(df['Price'])\n",
    "\n",
    "# TODO: Mean price of the data\n",
    "mean_price = np.mean(df['Price'])\n",
    "\n",
    "# TODO: Median price of the data\n",
    "median_price = np.median(df['Price'])\n",
    "\n",
    "# TODO: Standard deviation of prices of the data\n",
    "std_price = np.std(df['Price'])\n",
    "\n",
    "# Show the calculated statistics\n",
    "print (\"Statistics for Melbourne housing dataset:\\n\")\n",
    "print (\"Minimum price: ${:,.2f}\".format(minimum_price))\n",
    "print (\"Maximum price: ${:,.2f}\".format(maximum_price))\n",
    "print (\"Mean price: ${:,.2f}\".format(mean_price))\n",
    "print (\"Median price ${:,.2f}\".format(median_price))\n",
    "print (\"Standard deviation of prices: ${:,.2f}\".format(std_price))"
   ]
  },
  {
   "cell_type": "code",
   "execution_count": 60,
   "metadata": {},
   "outputs": [
    {
     "data": {
      "image/png": "[encoded data removed]",
      "text/plain": [
       "<Figure size 432x288 with 1 Axes>"
      ]
     },
     "metadata": {},
     "output_type": "display_data"
    }
   ],
   "source": [
    "import matplotlib.pyplot as plt\n",
    "plt.grid()\n",
    "plt.hist(df['Price'],bins=40)\n",
    "plt.show()"
   ]
  },
  {
   "cell_type": "markdown",
   "metadata": {},
   "source": [
    "The distribution of Price is not symmetric means the distribution is not normal. It is skewed to the right. Let's scale the variable by using scaling function of sklearn.."
   ]
  },
  {
   "cell_type": "code",
   "execution_count": 61,
   "metadata": {},
   "outputs": [
    {
     "data": {
      "image/png": "[encoded data removed]",
      "text/plain": [
       "<Figure size 432x288 with 1 Axes>"
      ]
     },
     "metadata": {},
     "output_type": "display_data"
    }
   ],
   "source": [
    "import numpy as np\n",
    "y_mean = np.mean(df['Price'])\n",
    "y_std = np.std(df['Price'])\n",
    "y_scaled = (df['Price']-y_mean)/y_std\n",
    "plt.grid()\n",
    "plt.hist(y_scaled,bins=40)\n",
    "plt.show()"
   ]
  },
  {
   "cell_type": "markdown",
   "metadata": {},
   "source": [
    "The distribution of price is still skewed to the right. We should try another transformation. Lets apply logarithemic transformation of y."
   ]
  },
  {
   "cell_type": "code",
   "execution_count": 62,
   "metadata": {},
   "outputs": [
    {
     "data": {
      "image/png": "[encoded data removed]",
      "text/plain": [
       "<Figure size 432x288 with 1 Axes>"
      ]
     },
     "metadata": {},
     "output_type": "display_data"
    }
   ],
   "source": [
    "y_log = np.log(df['Price'])\n",
    "plt.grid()\n",
    "plt.hist(y_log,bins=40)\n",
    "plt.show()"
   ]
  },
  {
   "cell_type": "code",
   "execution_count": 63,
   "metadata": {},
   "outputs": [
    {
     "data": {
      "text/plain": [
       "<matplotlib.axes._subplots.AxesSubplot at 0x1d49f2d1668>"
      ]
     },
     "execution_count": 63,
     "metadata": {},
     "output_type": "execute_result"
    },
    {
     "data": {
      "image/png": "[encoded data removed]",
      "text/plain": [
       "<Figure size 432x288 with 1 Axes>"
      ]
     },
     "metadata": {},
     "output_type": "display_data"
    }
   ],
   "source": [
    "## bar diagram for the vaiable Type of the house\n",
    "df['Type'].value_counts().plot(kind='bar')"
   ]
  },
  {
   "cell_type": "code",
   "execution_count": 64,
   "metadata": {},
   "outputs": [
    {
     "data": {
      "text/plain": [
       "<matplotlib.axes._subplots.AxesSubplot at 0x1d49f31dd68>"
      ]
     },
     "execution_count": 64,
     "metadata": {},
     "output_type": "execute_result"
    },
    {
     "data": {
      "image/png": "[encoded data removed]",
      "text/plain": [
       "<Figure size 432x288 with 1 Axes>"
      ]
     },
     "metadata": {},
     "output_type": "display_data"
    }
   ],
   "source": [
    "## bar diagram for the vaiable Rooms\n",
    "df['Rooms'].value_counts().plot(kind='bar')"
   ]
  },
  {
   "cell_type": "code",
   "execution_count": 65,
   "metadata": {},
   "outputs": [
    {
     "data": {
      "text/plain": [
       "<matplotlib.axes._subplots.AxesSubplot at 0x1d49f3a77f0>"
      ]
     },
     "execution_count": 65,
     "metadata": {},
     "output_type": "execute_result"
    },
    {
     "data": {
      "image/png": "[encoded data removed]",
      "text/plain": [
       "<Figure size 432x288 with 1 Axes>"
      ]
     },
     "metadata": {},
     "output_type": "display_data"
    }
   ],
   "source": [
    "## bar diagram for the vaiable Method\n",
    "df['Method'].value_counts().plot(kind='bar')"
   ]
  },
  {
   "cell_type": "code",
   "execution_count": 66,
   "metadata": {},
   "outputs": [
    {
     "data": {
      "text/plain": [
       "<matplotlib.axes._subplots.AxesSubplot at 0x1d49f3d8eb8>"
      ]
     },
     "execution_count": 66,
     "metadata": {},
     "output_type": "execute_result"
    },
    {
     "data": {
      "image/png": "[encoded data removed]",
      "text/plain": [
       "<Figure size 432x288 with 1 Axes>"
      ]
     },
     "metadata": {},
     "output_type": "display_data"
    }
   ],
   "source": [
    "## bar diagram for the vaiable Regionname\n",
    "df['Regionname'].value_counts().plot(kind='bar')"
   ]
  },
  {
   "cell_type": "code",
   "execution_count": 67,
   "metadata": {},
   "outputs": [
    {
     "data": {
      "text/plain": [
       "<matplotlib.axes._subplots.AxesSubplot at 0x1d4a68a0cf8>"
      ]
     },
     "execution_count": 67,
     "metadata": {},
     "output_type": "execute_result"
    },
    {
     "data": {
      "image/png": "[encoded data removed]",
      "text/plain": [
       "<Figure size 432x288 with 1 Axes>"
      ]
     },
     "metadata": {},
     "output_type": "display_data"
    }
   ],
   "source": [
    "df['CouncilArea'].value_counts().plot(kind='bar')"
   ]
  },
  {
   "cell_type": "markdown",
   "metadata": {},
   "source": [
    "Scatter diagram to see the correlation between pice and different numerical variables..."
   ]
  },
  {
   "cell_type": "code",
   "execution_count": 68,
   "metadata": {},
   "outputs": [
    {
     "data": {
      "image/png": "[encoded data removed]",
      "text/plain": [
       "<Figure size 432x288 with 1 Axes>"
      ]
     },
     "metadata": {},
     "output_type": "display_data"
    }
   ],
   "source": [
    "import matplotlib.pyplot as plt\n",
    "plt.grid()\n",
    "plt.scatter(y_log,df['Rooms'],c='black')\n",
    "plt.xlabel('log(Price)')\n",
    "plt.ylabel('Rooms')\n",
    "plt.title('Scatter plot for log(Price) & Rooms')\n",
    "plt.show()"
   ]
  },
  {
   "cell_type": "code",
   "execution_count": null,
   "metadata": {},
   "outputs": [],
   "source": []
  },
  {
   "cell_type": "code",
   "execution_count": 69,
   "metadata": {},
   "outputs": [
    {
     "data": {
      "image/png": "[encoded data removed]",
      "text/plain": [
       "<Figure size 432x288 with 1 Axes>"
      ]
     },
     "metadata": {},
     "output_type": "display_data"
    }
   ],
   "source": [
    "plt.grid()\n",
    "plt.scatter(y_log,df['Propertycount'],c='black')\n",
    "plt.xlabel('log(Price)')\n",
    "plt.ylabel('Propertycount')\n",
    "plt.title('Scatter plot for log(Price) & Propertycount')\n",
    "plt.show()"
   ]
  },
  {
   "cell_type": "code",
   "execution_count": 70,
   "metadata": {},
   "outputs": [
    {
     "data": {
      "image/png": "[encoded data removed]",
      "text/plain": [
       "<Figure size 432x288 with 1 Axes>"
      ]
     },
     "metadata": {},
     "output_type": "display_data"
    }
   ],
   "source": [
    "plt.grid()\n",
    "plt.scatter(y_log,df['Distance'],c='black')\n",
    "plt.xlabel('log(Price)')\n",
    "plt.ylabel('Distance')\n",
    "plt.title('Scatter plot for log(Price) & Distance')\n",
    "plt.show()"
   ]
  },
  {
   "cell_type": "markdown",
   "metadata": {},
   "source": [
    "# 3. Hypothesis Test, Feature Engineering & Model selection:"
   ]
  },
  {
   "cell_type": "markdown",
   "metadata": {},
   "source": [
    "We will try to find the predictors that influence the price of house in Melbourne. So at first we will try to find out the correlation between Price and Distance, between Price and Rooms, and between Price and Propertycount. So our first hypothesis is:\n",
    "\n",
    "H0_a: There exists no linear correlation between the Price and Distance ( that is population corr. coef = 0).\n",
    "#H1_a: There exists linear correlation between the Price and Distance ( that is population corr. coef is not 0).\n",
    "\n",
    "H0_b : There exists no linear correlation between the Price and Rooms.\n",
    "#H1_b: There exists linear correlation between the Price and Rooms.\n",
    "\n",
    "H0_c: There exists no linear correlation between the Price and Propertycount.\n",
    "#H1_c: There exists linear correlation between the Price and Propertycount."
   ]
  },
  {
   "cell_type": "code",
   "execution_count": 71,
   "metadata": {},
   "outputs": [
    {
     "name": "stdout",
     "output_type": "stream",
     "text": [
      "-0.22607492133386084 0.0\n"
     ]
    }
   ],
   "source": [
    "from scipy.stats import pearsonr\n",
    "corr, p_value = pearsonr(y_log, df['Distance'])\n",
    "print(corr, p_value)"
   ]
  },
  {
   "cell_type": "markdown",
   "metadata": {},
   "source": [
    "The correlation between Price and Distances is weakly negative, and the correlation is significant because the p-value is less than 0.05. So we can conclude that Price of a house and its Distance from CBD is weakly negatively correlated with correlation coefficient -0.2261. Therefore our first hypothesis is rejected. "
   ]
  },
  {
   "cell_type": "code",
   "execution_count": 72,
   "metadata": {},
   "outputs": [
    {
     "name": "stdout",
     "output_type": "stream",
     "text": [
      "0.4060431086717598 0.0\n"
     ]
    }
   ],
   "source": [
    "from scipy.stats import pearsonr\n",
    "corr, p_value = pearsonr(y_log, df['Rooms'])\n",
    "print(corr, p_value)"
   ]
  },
  {
   "cell_type": "markdown",
   "metadata": {},
   "source": [
    "The p-value is 0.0 < 0.05, so we can reject our second hull hypothesis. Therefore we can conclude that there exists moderate positive linear correlation between Price and Number of Rooms in the house."
   ]
  },
  {
   "cell_type": "code",
   "execution_count": 73,
   "metadata": {},
   "outputs": [
    {
     "name": "stdout",
     "output_type": "stream",
     "text": [
      "-0.0719360908957598 4.4031402085799884e-73\n"
     ]
    }
   ],
   "source": [
    "from scipy.stats import pearsonr\n",
    "corr, p_value = pearsonr(y_log, df['Propertycount'])\n",
    "print(corr, p_value)"
   ]
  },
  {
   "cell_type": "markdown",
   "metadata": {},
   "source": [
    "The p-value is less than 0.05, so we can reject the null hypothesis. We can conclude that price is weakly negatively correlated with Propertycount. "
   ]
  },
  {
   "cell_type": "markdown",
   "metadata": {},
   "source": [
    "# a. Multiple Linear Regression\n",
    "Because we have found that Price is significantly positively linearly correlated with Rooms and significantly negatively linearly correlated with Distance and with Propertycount, so we can try to find a linear regression equation for Price with regressors Distance and Propertycount ( we cannot include Rooms as it is a categorical variable) and will test the significance of the linear regression equation with F-test as well as indivisual t-test. "
   ]
  },
  {
   "cell_type": "markdown",
   "metadata": {},
   "source": [
    "For the hypothesis for the F-test is:\n",
    "\n",
    "H0_a = The regression coeff(Distance) = coeff(Propertycount) = 0.\n",
    "\n",
    "H1_a = At least one of the regression coefficients are not equal to zero."
   ]
  },
  {
   "cell_type": "markdown",
   "metadata": {},
   "source": [
    "H0_b = The regression coefficient of Propertycount is 0.\n",
    "\n",
    "H1_b = The regression coefficient of Propertycount is not 0.\n",
    "\n",
    "H0_c = The regression coefficient of Distance is 0.\n",
    "\n",
    "H1_c = The regression coefficient of Distance is not 0."
   ]
  },
  {
   "cell_type": "code",
   "execution_count": 74,
   "metadata": {},
   "outputs": [],
   "source": [
    "import statsmodels.api as sm\n",
    "#creating X and y \n",
    "X =df[['Propertycount', 'Distance']]\n",
    "X1 = sm.add_constant(X) ## let's add an intercept (beta_0) to our model\n",
    "# Create target variable\n",
    "y = y_log"
   ]
  },
  {
   "cell_type": "code",
   "execution_count": 75,
   "metadata": {},
   "outputs": [
    {
     "data": {
      "text/html": [
       "<table class=\"simpletable\">\n",
       "<caption>OLS Regression Results</caption>\n",
       "<tr>\n",
       "  <th>Dep. Variable:</th>          <td>Price</td>      <th>  R-squared:         </th> <td>   0.056</td> \n",
       "</tr>\n",
       "<tr>\n",
       "  <th>Model:</th>                   <td>OLS</td>       <th>  Adj. R-squared:    </th> <td>   0.056</td> \n",
       "</tr>\n",
       "<tr>\n",
       "  <th>Method:</th>             <td>Least Squares</td>  <th>  F-statistic:       </th> <td>   1864.</td> \n",
       "</tr>\n",
       "<tr>\n",
       "  <th>Date:</th>             <td>Mon, 10 Dec 2018</td> <th>  Prob (F-statistic):</th>  <td>  0.00</td>  \n",
       "</tr>\n",
       "<tr>\n",
       "  <th>Time:</th>                 <td>18:34:50</td>     <th>  Log-Likelihood:    </th> <td> -35784.</td> \n",
       "</tr>\n",
       "<tr>\n",
       "  <th>No. Observations:</th>      <td> 63023</td>      <th>  AIC:               </th> <td>7.157e+04</td>\n",
       "</tr>\n",
       "<tr>\n",
       "  <th>Df Residuals:</th>          <td> 63020</td>      <th>  BIC:               </th> <td>7.160e+04</td>\n",
       "</tr>\n",
       "<tr>\n",
       "  <th>Df Model:</th>              <td>     2</td>      <th>                     </th>     <td> </td>    \n",
       "</tr>\n",
       "<tr>\n",
       "  <th>Covariance Type:</th>      <td>nonrobust</td>    <th>                     </th>     <td> </td>    \n",
       "</tr>\n",
       "</table>\n",
       "<table class=\"simpletable\">\n",
       "<tr>\n",
       "        <td></td>           <th>coef</th>     <th>std err</th>      <th>t</th>      <th>P>|t|</th>  <th>[0.025</th>    <th>0.975]</th>  \n",
       "</tr>\n",
       "<tr>\n",
       "  <th>const</th>         <td>   13.9290</td> <td>    0.004</td> <td> 3169.815</td> <td> 0.000</td> <td>   13.920</td> <td>   13.938</td>\n",
       "</tr>\n",
       "<tr>\n",
       "  <th>Propertycount</th> <td> -6.83e-06</td> <td> 3.84e-07</td> <td>  -17.766</td> <td> 0.000</td> <td>-7.58e-06</td> <td>-6.08e-06</td>\n",
       "</tr>\n",
       "<tr>\n",
       "  <th>Distance</th>      <td>   -0.0130</td> <td>    0.000</td> <td>  -58.152</td> <td> 0.000</td> <td>   -0.013</td> <td>   -0.013</td>\n",
       "</tr>\n",
       "</table>\n",
       "<table class=\"simpletable\">\n",
       "<tr>\n",
       "  <th>Omnibus:</th>       <td>1539.294</td> <th>  Durbin-Watson:     </th> <td>   1.584</td>\n",
       "</tr>\n",
       "<tr>\n",
       "  <th>Prob(Omnibus):</th>  <td> 0.000</td>  <th>  Jarque-Bera (JB):  </th> <td>3295.253</td>\n",
       "</tr>\n",
       "<tr>\n",
       "  <th>Skew:</th>           <td> 0.126</td>  <th>  Prob(JB):          </th> <td>    0.00</td>\n",
       "</tr>\n",
       "<tr>\n",
       "  <th>Kurtosis:</th>       <td> 4.092</td>  <th>  Cond. No.          </th> <td>2.28e+04</td>\n",
       "</tr>\n",
       "</table><br/><br/>Warnings:<br/>[1] Standard Errors assume that the covariance matrix of the errors is correctly specified.<br/>[2] The condition number is large, 2.28e+04. This might indicate that there are<br/>strong multicollinearity or other numerical problems."
      ],
      "text/plain": [
       "<class 'statsmodels.iolib.summary.Summary'>\n",
       "\"\"\"\n",
       "                            OLS Regression Results                            \n",
       "==============================================================================\n",
       "Dep. Variable:                  Price   R-squared:                       0.056\n",
       "Model:                            OLS   Adj. R-squared:                  0.056\n",
       "Method:                 Least Squares   F-statistic:                     1864.\n",
       "Date:                Mon, 10 Dec 2018   Prob (F-statistic):               0.00\n",
       "Time:                        18:34:50   Log-Likelihood:                -35784.\n",
       "No. Observations:               63023   AIC:                         7.157e+04\n",
       "Df Residuals:                   63020   BIC:                         7.160e+04\n",
       "Df Model:                           2                                         \n",
       "Covariance Type:            nonrobust                                         \n",
       "=================================================================================\n",
       "                    coef    std err          t      P>|t|      [0.025      0.975]\n",
       "---------------------------------------------------------------------------------\n",
       "const            13.9290      0.004   3169.815      0.000      13.920      13.938\n",
       "Propertycount  -6.83e-06   3.84e-07    -17.766      0.000   -7.58e-06   -6.08e-06\n",
       "Distance         -0.0130      0.000    -58.152      0.000      -0.013      -0.013\n",
       "==============================================================================\n",
       "Omnibus:                     1539.294   Durbin-Watson:                   1.584\n",
       "Prob(Omnibus):                  0.000   Jarque-Bera (JB):             3295.253\n",
       "Skew:                           0.126   Prob(JB):                         0.00\n",
       "Kurtosis:                       4.092   Cond. No.                     2.28e+04\n",
       "==============================================================================\n",
       "\n",
       "Warnings:\n",
       "[1] Standard Errors assume that the covariance matrix of the errors is correctly specified.\n",
       "[2] The condition number is large, 2.28e+04. This might indicate that there are\n",
       "strong multicollinearity or other numerical problems.\n",
       "\"\"\""
      ]
     },
     "execution_count": 75,
     "metadata": {},
     "output_type": "execute_result"
    }
   ],
   "source": [
    "import statsmodels.api as sm\n",
    "model = sm.OLS(y_log, X1).fit() # Regression with the intercept\n",
    "predictions = model.predict(X1)\n",
    "model.summary()"
   ]
  },
  {
   "cell_type": "code",
   "execution_count": 76,
   "metadata": {},
   "outputs": [
    {
     "data": {
      "text/html": [
       "<table class=\"simpletable\">\n",
       "<caption>OLS Regression Results</caption>\n",
       "<tr>\n",
       "  <th>Dep. Variable:</th>          <td>Price</td>      <th>  R-squared:         </th>  <td>   0.845</td>  \n",
       "</tr>\n",
       "<tr>\n",
       "  <th>Model:</th>                   <td>OLS</td>       <th>  Adj. R-squared:    </th>  <td>   0.845</td>  \n",
       "</tr>\n",
       "<tr>\n",
       "  <th>Method:</th>             <td>Least Squares</td>  <th>  F-statistic:       </th>  <td>1.713e+05</td> \n",
       "</tr>\n",
       "<tr>\n",
       "  <th>Date:</th>             <td>Mon, 10 Dec 2018</td> <th>  Prob (F-statistic):</th>   <td>  0.00</td>   \n",
       "</tr>\n",
       "<tr>\n",
       "  <th>Time:</th>                 <td>18:34:52</td>     <th>  Log-Likelihood:    </th> <td>-1.9580e+05</td>\n",
       "</tr>\n",
       "<tr>\n",
       "  <th>No. Observations:</th>      <td> 63023</td>      <th>  AIC:               </th>  <td>3.916e+05</td> \n",
       "</tr>\n",
       "<tr>\n",
       "  <th>Df Residuals:</th>          <td> 63021</td>      <th>  BIC:               </th>  <td>3.916e+05</td> \n",
       "</tr>\n",
       "<tr>\n",
       "  <th>Df Model:</th>              <td>     2</td>      <th>                     </th>      <td> </td>     \n",
       "</tr>\n",
       "<tr>\n",
       "  <th>Covariance Type:</th>      <td>nonrobust</td>    <th>                     </th>      <td> </td>     \n",
       "</tr>\n",
       "</table>\n",
       "<table class=\"simpletable\">\n",
       "<tr>\n",
       "        <td></td>           <th>coef</th>     <th>std err</th>      <th>t</th>      <th>P>|t|</th>  <th>[0.025</th>    <th>0.975]</th>  \n",
       "</tr>\n",
       "<tr>\n",
       "  <th>Propertycount</th> <td>    0.0008</td> <td> 3.67e-06</td> <td>  216.424</td> <td> 0.000</td> <td>    0.001</td> <td>    0.001</td>\n",
       "</tr>\n",
       "<tr>\n",
       "  <th>Distance</th>      <td>    0.4396</td> <td>    0.002</td> <td>  201.025</td> <td> 0.000</td> <td>    0.435</td> <td>    0.444</td>\n",
       "</tr>\n",
       "</table>\n",
       "<table class=\"simpletable\">\n",
       "<tr>\n",
       "  <th>Omnibus:</th>       <td>8306.910</td> <th>  Durbin-Watson:     </th> <td>   0.551</td> \n",
       "</tr>\n",
       "<tr>\n",
       "  <th>Prob(Omnibus):</th>  <td> 0.000</td>  <th>  Jarque-Bera (JB):  </th> <td>12881.170</td>\n",
       "</tr>\n",
       "<tr>\n",
       "  <th>Skew:</th>           <td>-0.942</td>  <th>  Prob(JB):          </th> <td>    0.00</td> \n",
       "</tr>\n",
       "<tr>\n",
       "  <th>Kurtosis:</th>       <td> 4.166</td>  <th>  Cond. No.          </th> <td>    894.</td> \n",
       "</tr>\n",
       "</table><br/><br/>Warnings:<br/>[1] Standard Errors assume that the covariance matrix of the errors is correctly specified."
      ],
      "text/plain": [
       "<class 'statsmodels.iolib.summary.Summary'>\n",
       "\"\"\"\n",
       "                            OLS Regression Results                            \n",
       "==============================================================================\n",
       "Dep. Variable:                  Price   R-squared:                       0.845\n",
       "Model:                            OLS   Adj. R-squared:                  0.845\n",
       "Method:                 Least Squares   F-statistic:                 1.713e+05\n",
       "Date:                Mon, 10 Dec 2018   Prob (F-statistic):               0.00\n",
       "Time:                        18:34:52   Log-Likelihood:            -1.9580e+05\n",
       "No. Observations:               63023   AIC:                         3.916e+05\n",
       "Df Residuals:                   63021   BIC:                         3.916e+05\n",
       "Df Model:                           2                                         \n",
       "Covariance Type:            nonrobust                                         \n",
       "=================================================================================\n",
       "                    coef    std err          t      P>|t|      [0.025      0.975]\n",
       "---------------------------------------------------------------------------------\n",
       "Propertycount     0.0008   3.67e-06    216.424      0.000       0.001       0.001\n",
       "Distance          0.4396      0.002    201.025      0.000       0.435       0.444\n",
       "==============================================================================\n",
       "Omnibus:                     8306.910   Durbin-Watson:                   0.551\n",
       "Prob(Omnibus):                  0.000   Jarque-Bera (JB):            12881.170\n",
       "Skew:                          -0.942   Prob(JB):                         0.00\n",
       "Kurtosis:                       4.166   Cond. No.                         894.\n",
       "==============================================================================\n",
       "\n",
       "Warnings:\n",
       "[1] Standard Errors assume that the covariance matrix of the errors is correctly specified.\n",
       "\"\"\""
      ]
     },
     "execution_count": 76,
     "metadata": {},
     "output_type": "execute_result"
    }
   ],
   "source": [
    "import statsmodels.api as sm\n",
    "model = sm.OLS(y, X).fit() # Regression without the intercept\n",
    "predictions = model.predict(X)\n",
    "model.summary()"
   ]
  },
  {
   "cell_type": "markdown",
   "metadata": {},
   "source": [
    "For the regression without intercept, \n",
    "R-squared and Adjusted R-squared = 0.845, which indicates that about 84.5 percent variation in Price is explained by Distance and Propertycount. Although the F-statistic is very low but the overall multiple linear regression is significant at 1% significance level and the individual coefficients are also significant at 5% significance level. The fitted multiple linear regression model is \n",
    "                        \n",
    "                        ln(Price) = 0.0008 * Propertycount +0.4396 * Distances\n",
    "\n",
    "by taking intercept 0 (which is also called regression into the origin).\n",
    "\n",
    "We can say that, if Propertycount is increased by one unit then ln(Price) will be increased by 0.0008 unit (when the we assume that the effect of Distance is zero) and if Distance from CBD is increased by one unit the ln(Price) of the property will also be increased by 0.4396 unit (when the effect of Propertycount is constant). From the fitted regression equation it is clear that the regressor Distance has the largest impact on the price. Also the Durbin-Watson test statistic is 0.551 and the Jarque-Bera (JB) test statistic is 12881.17 with p-value 0.00. So we will reject the null hypothesis of normality of error in Jarque Bera (JB) test. In Durbin-Watson test we can also reject the null hypotheis which means the data don't have any autocorrelation."
   ]
  },
  {
   "cell_type": "markdown",
   "metadata": {},
   "source": [
    "# b. Simple Linear Regression with only one regressor \n",
    "We will use the regressor Distance only to form the linear equation of Price and will examine how it works."
   ]
  },
  {
   "cell_type": "code",
   "execution_count": 78,
   "metadata": {},
   "outputs": [
    {
     "name": "stdout",
     "output_type": "stream",
     "text": [
      "-0.013083633979397111 13.8776354892009\n"
     ]
    }
   ],
   "source": [
    "Distance = df['Distance']\n",
    "# Fitting data to a linear regression using least squares\n",
    "\n",
    "slope, intercept = np.polyfit(Distance, y, 1)\n",
    "print(slope, intercept)\n",
    "\n",
    "# Specify slopes to consider: a_vals\n",
    "a_vals = np.linspace(0, 0.1, 200)\n",
    "\n",
    "# Initialize sum of square of residuals: rss\n",
    "rss = np.empty_like(a_vals)\n",
    "\n",
    "# Compute sum of square of residuals for each value of a_vals\n",
    "for i, a in enumerate(a_vals):\n",
    "    rss[i] = np.sum((y - a * Distance - intercept)**2) # Here my slope is x and are being multiplied by x values which is a.\n",
    "#print(np.mean(rss))"
   ]
  },
  {
   "cell_type": "code",
   "execution_count": 79,
   "metadata": {},
   "outputs": [
    {
     "name": "stdout",
     "output_type": "stream",
     "text": [
      "-7.143700731007318e-06 13.766090594938285\n"
     ]
    }
   ],
   "source": [
    "Prop = df['Propertycount']\n",
    "# Fitting data to a linear regression using least squares\n",
    "\n",
    "slope, intercept = np.polyfit(Prop, y, 1)\n",
    "print(slope, intercept)"
   ]
  },
  {
   "cell_type": "markdown",
   "metadata": {},
   "source": [
    "We have fitted the simple linear regression for ln(Price) and Distance, and for ln(Price) and Propertycount. In both case the intercept are negative and the slopes are positive. But in simple linear regression equation of ln(Price) with Propertycount, the intercept is larger compared to the intercept in the simple linear equation of ln(Price) and Distance. \n",
    "\n",
    "ln(Price) = -0.0130836 + 13.8776354892 * Distances\n",
    "\n",
    "ln(Price) = -7.143700731007318 e-06 + 13.76609059494 * Propertycount\n",
    "\n",
    "But we prefer the previous multiple linear regression model rather that these two simple linear regression models. "
   ]
  },
  {
   "cell_type": "markdown",
   "metadata": {},
   "source": [
    "# c. Checking the assumptions of linear regression\n",
    "The assumptions are:\n",
    "\n",
    "Multivariate normality\n",
    "\n",
    "No or little multicollinearity\n",
    "\n",
    "No auto-correlation\n",
    "\n",
    "Homoscedasticity\n",
    "\n",
    "We will check each of them to see whether the regression satisfies the assumptions or not and will comment on the validity of the linear regression. "
   ]
  },
  {
   "cell_type": "markdown",
   "metadata": {},
   "source": [
    "# c.1. Normality Chekcking:\n",
    "We check the multivariate normality by normal QQ plot."
   ]
  },
  {
   "cell_type": "code",
   "execution_count": 80,
   "metadata": {},
   "outputs": [
    {
     "data": {
      "image/png": "[encoded data removed]",
      "text/plain": [
       "<Figure size 432x288 with 1 Axes>"
      ]
     },
     "metadata": {},
     "output_type": "display_data"
    }
   ],
   "source": [
    "# QQ Plot\n",
    "from numpy.random import seed\n",
    "from numpy.random import randn\n",
    "from statsmodels.graphics.gofplots import qqplot\n",
    "from matplotlib import pyplot\n",
    "# seed the random number generator\n",
    "seed(1)\n",
    "# generate univariate observations\n",
    "#data = 5 * randn(100) + 50\n",
    "# q-q plot\n",
    "qqplot(y, line='s')\n",
    "pyplot.show()"
   ]
  },
  {
   "cell_type": "markdown",
   "metadata": {},
   "source": [
    "From see that distribution of Price is looks almost normal in the normal Q-Q plot. So we assume that the data is normal. "
   ]
  },
  {
   "cell_type": "markdown",
   "metadata": {},
   "source": [
    "# c.2. Checking Multicollinearity"
   ]
  },
  {
   "cell_type": "code",
   "execution_count": 81,
   "metadata": {},
   "outputs": [
    {
     "data": {
      "text/html": [
       "<div>\n",
       "<style scoped>\n",
       "    .dataframe tbody tr th:only-of-type {\n",
       "        vertical-align: middle;\n",
       "    }\n",
       "\n",
       "    .dataframe tbody tr th {\n",
       "        vertical-align: top;\n",
       "    }\n",
       "\n",
       "    .dataframe thead th {\n",
       "        text-align: right;\n",
       "    }\n",
       "</style>\n",
       "<table border=\"1\" class=\"dataframe\">\n",
       "  <thead>\n",
       "    <tr style=\"text-align: right;\">\n",
       "      <th></th>\n",
       "      <th>VIF Factor</th>\n",
       "      <th>features</th>\n",
       "    </tr>\n",
       "  </thead>\n",
       "  <tbody>\n",
       "    <tr>\n",
       "      <th>0</th>\n",
       "      <td>2.3</td>\n",
       "      <td>Propertycount</td>\n",
       "    </tr>\n",
       "    <tr>\n",
       "      <th>1</th>\n",
       "      <td>2.3</td>\n",
       "      <td>Distance</td>\n",
       "    </tr>\n",
       "  </tbody>\n",
       "</table>\n",
       "</div>"
      ],
      "text/plain": [
       "   VIF Factor       features\n",
       "0         2.3  Propertycount\n",
       "1         2.3       Distance"
      ]
     },
     "execution_count": 81,
     "metadata": {},
     "output_type": "execute_result"
    }
   ],
   "source": [
    "from statsmodels.stats.outliers_influence import variance_inflation_factor\n",
    "vif = pd.DataFrame()\n",
    "vif[\"VIF Factor\"] = [variance_inflation_factor(X.values, i) for i in range(X.shape[1])]\n",
    "vif[\"features\"] = X.columns\n",
    "vif.round(1)"
   ]
  },
  {
   "cell_type": "markdown",
   "metadata": {},
   "source": [
    "VIF = 1/ (1-R-square). \n",
    "\n",
    "Since VIF for for Distance as well as Propertycount is 2.3 which is less than 10 ( or less than 5). So we can say that there is no multicollinearity in the data."
   ]
  },
  {
   "cell_type": "markdown",
   "metadata": {},
   "source": [
    "# c.3. Checking Autocorrelation and Heteroscedasticy\n",
    "We coudn't test the autocorrelation and heteroscedasticity. So before we make final comment on this data based on the multiple linear regression model we have used, we should mention that: \n",
    "if the model passed the Autocorrelation and Heteroscedasticy test then the conclusion will be valid.\n",
    "\n",
    "Durbin-Watson: \n",
    "0.551\n",
    "Prob(Omnibus):\n",
    "0.000\n",
    "Jarque-Bera (JB): \n",
    "12881.170\n",
    "Prob(JB): \n",
    "0.00\n",
    "\n"
   ]
  },
  {
   "cell_type": "markdown",
   "metadata": {},
   "source": [
    "Durbin-Watson: \n",
    "0.551\n",
    "Prob(Omnibus):\n",
    "0.000\n",
    "Jarque-Bera (JB): \n",
    "12881.170\n",
    "Prob(JB): \n",
    "0.00"
   ]
  },
  {
   "cell_type": "markdown",
   "metadata": {},
   "source": [
    "# 4. Machine Learning Model Implementation"
   ]
  },
  {
   "cell_type": "markdown",
   "metadata": {},
   "source": [
    "# a. Random Forest Regressor\n",
    "We will apply ransom forest regressor to predict the house price based on relevent regressors. Here we have used Distance and Propertycount as regressors and Price as a target variable."
   ]
  },
  {
   "cell_type": "code",
   "execution_count": 82,
   "metadata": {},
   "outputs": [
    {
     "data": {
      "text/plain": [
       "RandomForestRegressor(bootstrap=True, criterion='mse', max_depth=5,\n",
       "           max_features='auto', max_leaf_nodes=None,\n",
       "           min_impurity_decrease=0.0, min_impurity_split=None,\n",
       "           min_samples_leaf=1, min_samples_split=2,\n",
       "           min_weight_fraction_leaf=0.0, n_estimators=200, n_jobs=1,\n",
       "           oob_score=False, random_state=42, verbose=0, warm_start=False)"
      ]
     },
     "execution_count": 82,
     "metadata": {},
     "output_type": "execute_result"
    }
   ],
   "source": [
    "X_R=df[['Distance','Rooms','Propertycount','Postcode']]\n",
    "# Train, test, split\n",
    "from sklearn.model_selection import train_test_split\n",
    "X_train, X_test, y_train, y_test = train_test_split(X_R,y, test_size = .20, random_state= 0)\n",
    "\n",
    "#Random Forest Regressor\n",
    "from sklearn.ensemble import RandomForestRegressor\n",
    "rfreg = RandomForestRegressor(max_depth=5,random_state=42,n_estimators=200)\n",
    "rfreg.fit(X_train,y_train)"
   ]
  },
  {
   "cell_type": "code",
   "execution_count": 83,
   "metadata": {},
   "outputs": [
    {
     "data": {
      "text/plain": [
       "0.4900844007621078"
      ]
     },
     "execution_count": 83,
     "metadata": {},
     "output_type": "execute_result"
    }
   ],
   "source": [
    "y_pred = rfreg.predict(X_test)\n",
    "rfreg.score(X_test,y_test)"
   ]
  },
  {
   "cell_type": "code",
   "execution_count": 84,
   "metadata": {},
   "outputs": [
    {
     "data": {
      "text/plain": [
       "array([0.41241313, 0.33459525, 0.0021848 , 0.25080683])"
      ]
     },
     "execution_count": 84,
     "metadata": {},
     "output_type": "execute_result"
    }
   ],
   "source": [
    "rfreg.feature_importances_"
   ]
  },
  {
   "cell_type": "markdown",
   "metadata": {},
   "source": [
    "Our data matrix was X = df [['Distance','Rooms','Propertycount','Postcode']].\n",
    "\n",
    "In the data matrix X the second element is Distance and here the RFR indicates that the variable Distance is more important than Propertycount, Rooms and Postcode to detect the Price of a property based on this data. Therefore, based on the data we have, we can conclude that Distance from CBD is the most important feature of the Price of a house, among the continuous and categorical features, of a property in Melbourne. "
   ]
  },
  {
   "cell_type": "code",
   "execution_count": 86,
   "metadata": {},
   "outputs": [
    {
     "data": {
      "text/plain": [
       "{'bootstrap': True,\n",
       " 'criterion': 'mse',\n",
       " 'max_depth': 5,\n",
       " 'max_features': 'auto',\n",
       " 'max_leaf_nodes': None,\n",
       " 'min_impurity_decrease': 0.0,\n",
       " 'min_impurity_split': None,\n",
       " 'min_samples_leaf': 1,\n",
       " 'min_samples_split': 2,\n",
       " 'min_weight_fraction_leaf': 0.0,\n",
       " 'n_estimators': 200,\n",
       " 'n_jobs': 1,\n",
       " 'oob_score': False,\n",
       " 'random_state': 42,\n",
       " 'verbose': 0,\n",
       " 'warm_start': False}"
      ]
     },
     "execution_count": 86,
     "metadata": {},
     "output_type": "execute_result"
    }
   ],
   "source": [
    "rfreg.get_params(deep=True)"
   ]
  },
  {
   "cell_type": "code",
   "execution_count": 87,
   "metadata": {},
   "outputs": [
    {
     "data": {
      "image/png": "[encoded data removed]",
      "text/plain": [
       "<Figure size 432x288 with 1 Axes>"
      ]
     },
     "metadata": {},
     "output_type": "display_data"
    }
   ],
   "source": [
    "# Build a plot\n",
    "plt.scatter(y_pred, y_test)\n",
    "plt.xlabel('Prediction')\n",
    "plt.ylabel('Real value')\n",
    "\n",
    "# Now add the perfect prediction line\n",
    "diagonal = np.linspace(0, np.max(y_test), 100)\n",
    "plt.plot(diagonal, diagonal, '-r')\n",
    "plt.show()"
   ]
  },
  {
   "cell_type": "markdown",
   "metadata": {},
   "source": [
    "From the graph we see that the predicted and actual value of the "
   ]
  },
  {
   "cell_type": "markdown",
   "metadata": {},
   "source": [
    "# b. Gradient Boosting Regressor\n",
    "We have also applied Gradient Boosting Regressor to see how it works with the daat. The code and the results are given below:"
   ]
  },
  {
   "cell_type": "code",
   "execution_count": 90,
   "metadata": {},
   "outputs": [
    {
     "name": "stdout",
     "output_type": "stream",
     "text": [
      "0.535457577200788\n",
      "[0.18667695 0.30200504 0.30766242 0.20365559]\n"
     ]
    }
   ],
   "source": [
    "from sklearn import ensemble\n",
    "clf = ensemble.GradientBoostingRegressor(n_estimators = 400, max_depth = 5, min_samples_split = 2, learning_rate = 0.1, loss = 'ls')\n",
    "clf.fit(X_train, y_train)\n",
    "print(clf.score(X_test,y_test))\n",
    "print(clf.feature_importances_)"
   ]
  },
  {
   "cell_type": "markdown",
   "metadata": {},
   "source": [
    "Our data matrix was X = df [['Distance','Rooms','Propertycount','Postcode']]\n",
    "\n",
    "With the gradient Boosting Regressor the score is 0.5355 which is better than Random Forest Regressor (the score is 0.0.4900). But in this case the variable Propertycount is turned out to be the most important regressor followed by Rooms, while the variable Distance is turned out to be the least important feature followed by Postcode. We can conclude that Gradient Boosting Regressor works better than Random Forest Regressor for this data. But when we have used cross validation with \n",
    "max_depth = [4,5,7,8] it was time consuming. So we have decided not to do further ML modeling in this project because of the time constraint. Therefore we can conclude that Distance and Propertycount both are most two important features (independent varables) that affect the price of a house in Melbourne based on the data we have. "
   ]
  },
  {
   "cell_type": "markdown",
   "metadata": {},
   "source": [
    "# 5. Conclusion & Further Development\n",
    "In this project we have explored the variables of the Melbourne House Price Less dataset and foud that the highest number of houses are with 3 bedrooms (close to 28000) followed by 4 bedroom houses (close to 16000) and then 2 bedroom houses (13k). In the variable Method, the category Property Sold (around 29k houses) has the highest number of houses followed by the category Passed In (that is PI, 10K). The highest number of houses are from Southern Metropolitan (17,500) followed by Northern Metropolitan (16K) and the lowest number of houses is from the category Western Victoria ( around 500) followed by Northern Victoria (around 1k). In the variable CouncilArea, the highest number of houses are from Boroondara City Council (around 5,100) followed by Darebin City Council(4,200) and the lowest number of houses are from Murrindindi Shire Council (less than 50) followed by Mooraboot Shire Council (less than 100). From the histogram of Price we have found that the distribution is not symmetric, it is skewed to the right. So we have transformed the variable Price into standard transformation by subtracting the mean from the values and divide it with the standard deviation but the variable was still not normal. Then we have used logarithemic transformation by making it ln(Price) with the help of natural logarithm. After log transformation the variable becomes normal. We did this this because we will apply linear regression model to detect the price of the house based on some selected variables ( has to be continuous) and one of the important assumptions of linear regression is linearity of the target variable (in this case it is Price). \n",
    "\n",
    "We have calculated the correlation coefficients to see how Price is related to the numeric variables Distance and Propertycount and with the categorical variable Rooms. It was found that the correlation between \n",
    "\n",
    "By analysing the Melbourne Housing Price Data Less with the help of linear regression and random forest regressor, we have found that the Distance from CBD is the most important feature of Price, among the numeric variables. From the multiple linear regression model we have found that \n",
    "\n",
    "                        ln(Price) = 0.0008 * Propertycount +0.4396 * Distances\n",
    "\n",
    "From this fitted line, we can say that ln(Price) will be increased one unit if the Distances increased by 0.4396 unit ( by assuming that the effect of Propertycount is zero), and ln(Price) of the property will be increased by 0.0008 unit if the Propertycount is increased by one unit (when there is no effect of Distance). We should have the restriction of assumption checking and we have only checked the Normality and Multicollineariy assumptions. So the validity of the multiple linear regression model is with the assumption that: we assume there exists no autocorrelation and heteroscedasticity in the data. \n",
    "\n",
    "\n",
    "In ML model implementation, we have used Random Forest Regressior and Gradient Boosting Regressor. In Gradient Boosting Regressor the score is 0.5355, which is larger than the score of Random Forest Regressor(which is 0.0.4900). In GB Regressor we have found that the variable Propertycount is the most important feature followed by Rooms and the variable Distance is the least important feature followed by Postcode. We can conclude that Gradient Boosting Regressor works better than Random Forest Regressor for this data because it has better score. We have used cross validation with max_depth = [4,5,7,8] it was time consuming. We have tried some other ML modeling for this dat but those models are not worked well for this data. \n",
    "\n",
    "Therefore we can conclude that Distance and Propertycount are two most important features (independent varables) that affect the price of a house in Melbourne based on the data we have. The greater the distance from CBD the larger the price of the house will be (by assuming that the effect of Propertycount is zero)and the greater the number of the property that exist in the suburb(when the effect of Distance is zero), the larger the price of the property will be.  "
   ]
  },
  {
   "cell_type": "markdown",
   "metadata": {},
   "source": [
    "# a. Further Development\n",
    "Here we have used the cross validation to see the accuracy of the random forest regressor but it was be time consuming when we have used max_depth = [4,5,6,7,8], so we have decided not to move further with the cross validation. Because of the time and knowledge constraint we coudn't do further analsis. If we have eonough time and knowledge we could have developed better model but we are not sure about that model. So for further development we can only suggest to do the hyperparameter tuning. "
   ]
  },
  {
   "cell_type": "code",
   "execution_count": null,
   "metadata": {},
   "outputs": [],
   "source": []
  },
  {
   "cell_type": "markdown",
   "metadata": {},
   "source": [
    " "
   ]
  },
  {
   "cell_type": "code",
   "execution_count": null,
   "metadata": {},
   "outputs": [],
   "source": []
  },
  {
   "cell_type": "markdown",
   "metadata": {},
   "source": [
    ". "
   ]
  },
  {
   "cell_type": "code",
   "execution_count": null,
   "metadata": {},
   "outputs": [],
   "source": []
  },
  {
   "cell_type": "code",
   "execution_count": null,
   "metadata": {},
   "outputs": [],
   "source": []
  },
  {
   "cell_type": "code",
   "execution_count": null,
   "metadata": {},
   "outputs": [],
   "source": []
  },
  {
   "cell_type": "code",
   "execution_count": null,
   "metadata": {},
   "outputs": [],
   "source": []
  }
 ],
 "metadata": {
  "kernelspec": {
   "display_name": "Python 3",
   "language": "python",
   "name": "python3"
  },
  "language_info": {
   "codemirror_mode": {
    "name": "ipython",
    "version": 3
   },
   "file_extension": ".py",
   "mimetype": "text/x-python",
   "name": "python",
   "nbconvert_exporter": "python",
   "pygments_lexer": "ipython3",
   "version": "3.6.5"
  }
 },
 "nbformat": 4,
 "nbformat_minor": 2
}
